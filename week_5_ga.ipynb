{
  "nbformat": 4,
  "nbformat_minor": 0,
  "metadata": {
    "colab": {
      "name": "week 5 ga.ipynb",
      "provenance": [],
      "collapsed_sections": [],
      "authorship_tag": "ABX9TyOl7IEBOpv7fWOVVsUjvU/z",
      "include_colab_link": true
    },
    "kernelspec": {
      "name": "python3",
      "display_name": "Python 3"
    },
    "language_info": {
      "name": "python"
    }
  },
  "cells": [
    {
      "cell_type": "markdown",
      "metadata": {
        "id": "view-in-github",
        "colab_type": "text"
      },
      "source": [
        "<a href=\"https://colab.research.google.com/github/Chirag-creator17/ML/blob/main/week_5_ga.ipynb\" target=\"_parent\"><img src=\"https://colab.research.google.com/assets/colab-badge.svg\" alt=\"Open In Colab\"/></a>"
      ]
    },
    {
      "cell_type": "code",
      "execution_count": 14,
      "metadata": {
        "id": "C4rBNIbLdc0G"
      },
      "outputs": [],
      "source": [
        "import numpy as np\n",
        "import os\n",
        "import io\n",
        "import warnings\n",
        "import matplotlib.pyplot as plt\n",
        "import seaborn as sns\n",
        "import warnings\n",
        "\n",
        "from sklearn.datasets import fetch_openml\n",
        "from sklearn.preprocessing import MinMaxScaler, StandardScaler\n",
        "from sklearn.pipeline import Pipeline\n",
        "from sklearn.dummy import DummyClassifier\n",
        "from sklearn.linear_model import Perceptron\n",
        "from sklearn.metrics import hinge_loss, ConfusionMatrixDisplay, confusion_matrix, make_scorer\n",
        "from sklearn.metrics import precision_score, recall_score, precision_recall_curve, classification_report,accuracy_score\n",
        "from sklearn.model_selection import cross_validate, cross_val_predict, GridSearchCV\n",
        "from pprint import pprint\n",
        "\n",
        "from sklearn.decomposition import PCA\n",
        "from sklearn.metrics import classification_report\n",
        "# warnings.filterwarnings(\"ignore\")"
      ]
    },
    {
      "cell_type": "code",
      "source": [
        "X, y = fetch_openml('mnist_784', version=1, return_X_y=True)"
      ],
      "metadata": {
        "id": "FW-oHaHjdzvR"
      },
      "execution_count": 2,
      "outputs": []
    },
    {
      "cell_type": "code",
      "source": [
        "X=X.to_numpy()\n",
        "y=y.to_numpy()"
      ],
      "metadata": {
        "id": "BfZg-RqgeGv0"
      },
      "execution_count": 3,
      "outputs": []
    },
    {
      "cell_type": "code",
      "source": [
        "X_train, X_test, y_train, y_test = X[:10000], X[10000:12000], y[:10000].astype(np.int64), y[10000:12000].astype(np.int64)"
      ],
      "metadata": {
        "id": "33WvnpOxespJ"
      },
      "execution_count": 4,
      "outputs": []
    },
    {
      "cell_type": "markdown",
      "source": [
        "## Q1"
      ],
      "metadata": {
        "id": "jJC3Oa5VeJ0w"
      }
    },
    {
      "cell_type": "code",
      "source": [
        "dig_5_idx=np.where(y_train==5)[0]\n",
        "dig_3_idx=np.where(y_train==3)[0]\n",
        "print(len(dig_5_idx),len(dig_3_idx))\n",
        "index=np.concatenate((dig_5_idx,dig_3_idx),axis=0)\n",
        "X_train1=X_train[index,:]\n",
        "y_train1=np.concatenate((np.ones(len(dig_5_idx)),-1*np.ones(len(dig_3_idx))))\n",
        "print(X_train1.shape[1],y_train1.shape[0])\n"
      ],
      "metadata": {
        "colab": {
          "base_uri": "https://localhost:8080/"
        },
        "id": "Udjps6B3e_UT",
        "outputId": "cf86145e-c09f-45ef-fdd2-cfb9de3872ab"
      },
      "execution_count": 5,
      "outputs": [
        {
          "output_type": "stream",
          "name": "stdout",
          "text": [
            "863 1032\n",
            "784 1895\n"
          ]
        }
      ]
    },
    {
      "cell_type": "code",
      "source": [
        "dig_5_idx1=np.where(y_test==5)[0]\n",
        "dig_3_idx1=np.where(y_test==3)[0]\n",
        "index1=np.concatenate((dig_5_idx1,dig_3_idx1),axis=0)\n",
        "X_test1=X_test[index1,:]\n",
        "y_test1=np.concatenate((np.ones(len(dig_5_idx1)),-1*np.ones(len(dig_3_idx1))))\n"
      ],
      "metadata": {
        "id": "5Xn--Owql65b"
      },
      "execution_count": 6,
      "outputs": []
    },
    {
      "cell_type": "markdown",
      "source": [
        "## Q2"
      ],
      "metadata": {
        "id": "mhc9FXaukT5O"
      }
    },
    {
      "cell_type": "code",
      "source": [
        "clf=Perceptron(random_state=42,\n",
        "               eta0=1,max_iter=100,\n",
        "               shuffle=True,\n",
        "               validation_fraction=0.1,\n",
        "               penalty=None,\n",
        "               warm_start=False)\n",
        "clf.fit(X_train1,y_train1)"
      ],
      "metadata": {
        "colab": {
          "base_uri": "https://localhost:8080/"
        },
        "id": "qrK-JHQikXai",
        "outputId": "a33e5cf7-f90d-4398-c0a9-5353ab133388"
      },
      "execution_count": 7,
      "outputs": [
        {
          "output_type": "execute_result",
          "data": {
            "text/plain": [
              "Perceptron(eta0=1, max_iter=100, random_state=42)"
            ]
          },
          "metadata": {},
          "execution_count": 7
        }
      ]
    },
    {
      "cell_type": "code",
      "source": [
        "y_pred1=clf.predict(X_test1)\n",
        "cm_display = ConfusionMatrixDisplay.from_predictions(y_test1, y_pred1, values_format='.5g')"
      ],
      "metadata": {
        "colab": {
          "base_uri": "https://localhost:8080/",
          "height": 279
        },
        "id": "3DQWAYI6lUeT",
        "outputId": "cc83c148-9e65-4e9e-86d2-ca193f742fe6"
      },
      "execution_count": 8,
      "outputs": [
        {
          "output_type": "display_data",
          "data": {
            "text/plain": [
              "<Figure size 432x288 with 2 Axes>"
            ],
            "image/png": "[encoded data removed]"
          },
          "metadata": {
            "needs_background": "light"
          }
        }
      ]
    },
    {
      "cell_type": "code",
      "source": [
        "# q 7-8\n",
        "pca=PCA(n_components=10,random_state=1)\n",
        "X_train1_r=pca.fit(X_train1).transform(X_train1)\n",
        "X_test1_r=pca.fit(X_test1).transform(X_test1)\n",
        "clf=Perceptron(random_state=42,\n",
        "               eta0=1,max_iter=100,\n",
        "               shuffle=True,\n",
        "               validation_fraction=0.1,\n",
        "               penalty=None,\n",
        "               fit_intercept=True)\n",
        "clf.fit(X_train1_r,y_train1)\n",
        "y_pred1=clf.predict(X_test1_r)\n",
        "cm_display = ConfusionMatrixDisplay.from_predictions(y_test1, y_pred1, values_format='.5g')\n",
        "plt.show()\n",
        "print(accuracy_score(y_test1,y_pred1))\n",
        "print(precision_score(y_test1,y_pred1))\n",
        "print(recall_score(y_test1,y_pred1))\n"
      ],
      "metadata": {
        "colab": {
          "base_uri": "https://localhost:8080/",
          "height": 331
        },
        "id": "zdvgh1kYa2F0",
        "outputId": "1e22cc4c-f18b-4afa-c1f2-b7efb0671b2f"
      },
      "execution_count": 16,
      "outputs": [
        {
          "output_type": "display_data",
          "data": {
            "text/plain": [
              "<Figure size 432x288 with 2 Axes>"
            ],
            "image/png": "[encoded data removed]"
          },
          "metadata": {
            "needs_background": "light"
          }
        },
        {
          "output_type": "stream",
          "name": "stdout",
          "text": [
            "0.5564304461942258\n",
            "0.5470588235294118\n",
            "0.5027027027027027\n"
          ]
        }
      ]
    }
  ]
}