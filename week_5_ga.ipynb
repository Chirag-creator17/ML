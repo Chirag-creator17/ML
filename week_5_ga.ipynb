{
  "nbformat": 4,
  "nbformat_minor": 0,
  "metadata": {
    "colab": {
      "name": "week 5 ga.ipynb",
      "provenance": [],
      "collapsed_sections": [],
      "authorship_tag": "ABX9TyPDYJ7XuAsee6Xhcpkpbt8l",
      "include_colab_link": true
    },
    "kernelspec": {
      "name": "python3",
      "display_name": "Python 3"
    },
    "language_info": {
      "name": "python"
    }
  },
  "cells": [
    {
      "cell_type": "markdown",
      "metadata": {
        "id": "view-in-github",
        "colab_type": "text"
      },
      "source": [
        "<a href=\"https://colab.research.google.com/github/Chirag-creator17/ML/blob/main/week_5_ga.ipynb\" target=\"_parent\"><img src=\"https://colab.research.google.com/assets/colab-badge.svg\" alt=\"Open In Colab\"/></a>"
      ]
    },
    {
      "cell_type": "code",
      "execution_count": 1,
      "metadata": {
        "id": "C4rBNIbLdc0G"
      },
      "outputs": [],
      "source": [
        "import numpy as np\n",
        "import os\n",
        "import io\n",
        "import warnings\n",
        "import matplotlib.pyplot as plt\n",
        "import seaborn as sns\n",
        "import warnings\n",
        "\n",
        "from sklearn.datasets import fetch_openml\n",
        "from sklearn.preprocessing import MinMaxScaler, StandardScaler\n",
        "from sklearn.pipeline import Pipeline\n",
        "from sklearn.dummy import DummyClassifier\n",
        "from sklearn.linear_model import Perceptron\n",
        "from sklearn.metrics import hinge_loss, ConfusionMatrixDisplay, confusion_matrix, make_scorer\n",
        "from sklearn.metrics import precision_score, recall_score, precision_recall_curve, classification_report\n",
        "from sklearn.model_selection import cross_validate, cross_val_predict, GridSearchCV\n",
        "from pprint import pprint\n",
        "\n",
        "# warnings.filterwarnings(\"ignore\")"
      ]
    },
    {
      "cell_type": "code",
      "source": [
        "X, y = fetch_openml('mnist_784', version=1, return_X_y=True)"
      ],
      "metadata": {
        "id": "FW-oHaHjdzvR"
      },
      "execution_count": 2,
      "outputs": []
    },
    {
      "cell_type": "code",
      "source": [
        "X=X.to_numpy()\n",
        "y=y.to_numpy()"
      ],
      "metadata": {
        "id": "BfZg-RqgeGv0"
      },
      "execution_count": 3,
      "outputs": []
    },
    {
      "cell_type": "code",
      "source": [
        "X_train, X_test, y_train, y_test = X[:10000], X[10000:12000], y[:10000].astype(np.int64), y[10000:12000].astype(np.int64)"
      ],
      "metadata": {
        "id": "33WvnpOxespJ"
      },
      "execution_count": 32,
      "outputs": []
    },
    {
      "cell_type": "markdown",
      "source": [
        "## Q1"
      ],
      "metadata": {
        "id": "jJC3Oa5VeJ0w"
      }
    },
    {
      "cell_type": "code",
      "source": [
        "dig_5_idx=np.where(y_train==5)[0]\n",
        "dig_3_idx=np.where(y_train==3)[0]\n",
        "print(len(dig_5_idx),len(dig_3_idx))\n",
        "index=np.concatenate((dig_5_idx,dig_3_idx),axis=0)\n",
        "X_train1=X_train[index,:]\n",
        "y_train1=np.concatenate((np.ones(len(dig_5_idx)),-1*np.ones(len(dig_3_idx))))\n",
        "print(X_train1.shape[1],y_train1.shape[0])\n"
      ],
      "metadata": {
        "colab": {
          "base_uri": "https://localhost:8080/"
        },
        "id": "Udjps6B3e_UT",
        "outputId": "867d3696-65ec-4293-841b-f8787c2dfc5a"
      },
      "execution_count": 34,
      "outputs": [
        {
          "output_type": "stream",
          "name": "stdout",
          "text": [
            "863 1032\n",
            "784 1895\n"
          ]
        }
      ]
    },
    {
      "cell_type": "code",
      "source": [
        "dig_5_idx1=np.where(y_test==5)[0]\n",
        "dig_3_idx1=np.where(y_test==3)[0]\n",
        "index1=np.concatenate((dig_5_idx1,dig_3_idx1),axis=0)\n",
        "X_test1=X_test[index1,:]\n",
        "y_test1=np.concatenate((np.ones(len(dig_5_idx1)),-1*np.ones(len(dig_3_idx1))))\n"
      ],
      "metadata": {
        "colab": {
          "base_uri": "https://localhost:8080/"
        },
        "id": "5Xn--Owql65b",
        "outputId": "79c36b41-8822-45f3-f411-d4153301cc5c"
      },
      "execution_count": 33,
      "outputs": [
        {
          "output_type": "stream",
          "name": "stdout",
          "text": [
            "185\n"
          ]
        }
      ]
    },
    {
      "cell_type": "markdown",
      "source": [
        "## Q2"
      ],
      "metadata": {
        "id": "mhc9FXaukT5O"
      }
    },
    {
      "cell_type": "code",
      "source": [
        "clf=Perceptron(random_state=42,\n",
        "               eta0=1,max_iter=100,\n",
        "               shuffle=True,\n",
        "               validation_fraction=0.1,\n",
        "               penalty=None,\n",
        "               warm_start=False)\n",
        "clf.fit(X_train1,y_train1)"
      ],
      "metadata": {
        "colab": {
          "base_uri": "https://localhost:8080/"
        },
        "id": "qrK-JHQikXai",
        "outputId": "77c5378c-ed1f-4f2a-a0a4-fc91ba18c53b"
      },
      "execution_count": 35,
      "outputs": [
        {
          "output_type": "execute_result",
          "data": {
            "text/plain": [
              "Perceptron(eta0=1, max_iter=100, random_state=42)"
            ]
          },
          "metadata": {},
          "execution_count": 35
        }
      ]
    },
    {
      "cell_type": "code",
      "source": [
        "y_pred1=clf.predict(X_test1)\n",
        "cm_display = ConfusionMatrixDisplay.from_predictions(y_test1, y_pred1, values_format='.5g')"
      ],
      "metadata": {
        "colab": {
          "base_uri": "https://localhost:8080/",
          "height": 279
        },
        "id": "3DQWAYI6lUeT",
        "outputId": "7b40bf6b-6e42-4732-99d6-817f152a04a6"
      },
      "execution_count": 36,
      "outputs": [
        {
          "output_type": "display_data",
          "data": {
            "text/plain": [
              "<Figure size 432x288 with 2 Axes>"
            ],
            "image/png": "[encoded data removed]"
          },
          "metadata": {
            "needs_background": "light"
          }
        }
      ]
    }
  ]
}