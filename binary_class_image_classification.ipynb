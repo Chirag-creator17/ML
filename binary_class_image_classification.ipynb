{
  "nbformat": 4,
  "nbformat_minor": 0,
  "metadata": {
    "colab": {
      "name": "binary class image classification.ipynb",
      "provenance": [],
      "collapsed_sections": [],
      "authorship_tag": "ABX9TyM/XAzIUJSe2kyuBXSsxNRi",
      "include_colab_link": true
    },
    "kernelspec": {
      "name": "python3",
      "display_name": "Python 3"
    },
    "language_info": {
      "name": "python"
    }
  },
  "cells": [
    {
      "cell_type": "markdown",
      "metadata": {
        "id": "view-in-github",
        "colab_type": "text"
      },
      "source": [
        "<a href=\"https://colab.research.google.com/github/Chirag-creator17/ML/blob/main/binary_class_image_classification.ipynb\" target=\"_parent\"><img src=\"https://colab.research.google.com/assets/colab-badge.svg\" alt=\"Open In Colab\"/></a>"
      ]
    },
    {
      "cell_type": "markdown",
      "source": [
        "### Perceptron\n"
      ],
      "metadata": {
        "id": "5_TBpvoxNspn"
      }
    },
    {
      "cell_type": "code",
      "source": [
        "import numpy as np\n",
        "import os\n",
        "import io\n",
        "import warnings\n",
        "import matplotlib.pyplot as plt\n",
        "import seaborn as sns\n",
        "import warnings\n",
        "\n",
        "from sklearn.datasets import fetch_openml\n",
        "from sklearn.preprocessing import MinMaxScaler, StandardScaler\n",
        "from sklearn.pipeline import Pipeline\n",
        "from sklearn.dummy import DummyClassifier\n",
        "from sklearn.linear_model import Perceptron\n",
        "from sklearn.metrics import hinge_loss, ConfusionMatrixDisplay, confusion_matrix, make_scorer\n",
        "from sklearn.metrics import precision_score, recall_score, precision_recall_curve, classification_report\n",
        "from sklearn.model_selection import cross_validate, cross_val_predict, GridSearchCV\n",
        "from pprint import pprint\n",
        "\n",
        "# warnings.filterwarnings(\"ignore\")"
      ],
      "metadata": {
        "id": "3MA_kxhaNW2v"
      },
      "execution_count": 2,
      "outputs": []
    },
    {
      "cell_type": "code",
      "source": [
        "X,y=fetch_openml('mnist_784',version=1,return_X_y=True)"
      ],
      "metadata": {
        "id": "LNiKKhHGNyCS"
      },
      "execution_count": 3,
      "outputs": []
    },
    {
      "cell_type": "code",
      "source": [
        "X=X.to_numpy()\n",
        "y=y.to_numpy()"
      ],
      "metadata": {
        "id": "OzxbAXJgONjh"
      },
      "execution_count": 4,
      "outputs": []
    },
    {
      "cell_type": "code",
      "source": [
        "target_names = np.unique(y)\n",
        "print(f'Number of samples: {X.shape[0]}, type: {X.dtype}')\n",
        "print(f'Number of features: {X.shape[1]}')\n",
        "print(f'Minimum: {np.min(X)}, Maximum: {np.max(X)}')\n",
        "print(f'Number of classes: {len(target_names)}, type: {y.dtype}')\n",
        "print(f'Labels: {target_names}')"
      ],
      "metadata": {
        "colab": {
          "base_uri": "https://localhost:8080/"
        },
        "id": "6oybGkxLOe_T",
        "outputId": "9a822c41-5b1a-4af4-bbdf-a022351ff1c3"
      },
      "execution_count": 5,
      "outputs": [
        {
          "output_type": "stream",
          "name": "stdout",
          "text": [
            "Number of samples: 70000, type: float64\n",
            "Number of features: 784\n",
            "Minimum: 0.0, Maximum: 255.0\n",
            "Number of classes: 10, type: object\n",
            "Labels: ['0' '1' '2' '3' '4' '5' '6' '7' '8' '9']\n"
          ]
        }
      ]
    },
    {
      "cell_type": "markdown",
      "source": [
        "#### Data Scaling"
      ],
      "metadata": {
        "id": "hbIeSHASO2Ia"
      }
    },
    {
      "cell_type": "code",
      "source": [
        "X = MinMaxScaler().fit_transform(X)\n",
        "print(f'Minimum: {np.min(X)}, Maximum: {np.max(X)}')"
      ],
      "metadata": {
        "colab": {
          "base_uri": "https://localhost:8080/"
        },
        "id": "GAfrC0B0OlUM",
        "outputId": "66ed6fe5-2eca-4f20-bed0-adb8f30f9ef3"
      },
      "execution_count": 6,
      "outputs": [
        {
          "output_type": "stream",
          "name": "stdout",
          "text": [
            "Minimum: 0.0, Maximum: 1.0\n"
          ]
        }
      ]
    },
    {
      "cell_type": "code",
      "source": [
        "num_images=9\n",
        "factor=np.int64(np.sqrt(num_images))\n",
        "fig,ax=plt.subplots(nrows=factor,ncols=factor,figsize=(8,6))\n",
        "idx_offset=0\n",
        "for i in range(factor):\n",
        "  index=idx_offset+i*(factor)\n",
        "  for j in range(factor):\n",
        "    ax[i,j].imshow(X[index+j].reshape(28,28),cmap='gray')\n",
        "    ax[i,j].set_title('Label:{0}'.format(str(y[index+j])))\n",
        "    ax[i,j].set_axis_off()"
      ],
      "metadata": {
        "colab": {
          "base_uri": "https://localhost:8080/",
          "height": 373
        },
        "id": "Kz8SypNvPEJT",
        "outputId": "01d7c512-f89c-4be4-cf7f-49f87dca3f02"
      },
      "execution_count": 26,
      "outputs": [
        {
          "output_type": "display_data",
          "data": {
            "text/plain": [
              "<Figure size 576x432 with 9 Axes>"
            ],
            "image/png": "[encoded data removed]"
          },
          "metadata": {
            "needs_background": "light"
          }
        }
      ]
    },
    {
      "cell_type": "code",
      "source": [
        "print(f'Label: {y[0]}')\n",
        "plt.imshow(X[0].reshape(28, 28))"
      ],
      "metadata": {
        "colab": {
          "base_uri": "https://localhost:8080/",
          "height": 300
        },
        "id": "19ozpt83QNZj",
        "outputId": "14a66f0a-5410-48c5-b8b3-245e85f1f121"
      },
      "execution_count": 27,
      "outputs": [
        {
          "output_type": "stream",
          "name": "stdout",
          "text": [
            "Label: 5\n"
          ]
        },
        {
          "output_type": "execute_result",
          "data": {
            "text/plain": [
              "<matplotlib.image.AxesImage at 0x7f54a2a58510>"
            ]
          },
          "metadata": {},
          "execution_count": 27
        },
        {
          "output_type": "display_data",
          "data": {
            "text/plain": [
              "<Figure size 432x288 with 1 Axes>"
            ],
            "image/png": "[encoded data removed]"
          },
          "metadata": {
            "needs_background": "light"
          }
        }
      ]
    },
    {
      "cell_type": "code",
      "source": [
        "# splitting data\n",
        "X_train, X_test, y_train, y_test = X[:60000], X[60000:], y[:60000], y[60000:]"
      ],
      "metadata": {
        "id": "8VlmuugbQO0W"
      },
      "execution_count": 12,
      "outputs": []
    },
    {
      "cell_type": "code",
      "source": [
        "sns.histplot(data=np.int8(y_train), bins=11)\n",
        "plt.xticks(ticks=np.arange(10), labels=np.arange(10))\n",
        "plt.xlabel('Class')\n",
        "plt.title('Distribution of Samples')\n",
        "plt.show()"
      ],
      "metadata": {
        "colab": {
          "base_uri": "https://localhost:8080/",
          "height": 295
        },
        "id": "PzvT-hXIQc4T",
        "outputId": "40d2bf7a-eb3f-4d15-80b6-2a63790be5f1"
      },
      "execution_count": 13,
      "outputs": [
        {
          "output_type": "display_data",
          "data": {
            "text/plain": [
              "<Figure size 432x288 with 1 Axes>"
            ],
            "image/png": "[encoded data removed]"
          },
          "metadata": {
            "needs_background": "light"
          }
        }
      ]
    },
    {
      "cell_type": "markdown",
      "source": [
        "#### Binary Classification"
      ],
      "metadata": {
        "id": "-7km9D9hQp9e"
      }
    },
    {
      "cell_type": "code",
      "source": [
        "#initialize new variable names with all -1\n",
        "y_train_0 = -1 * np.ones(y_train.shape[0])\n",
        "y_test_0 = -1 * np.ones(y_test.shape[0])\n",
        "\n",
        "#find indices of digit 0 image\n",
        "indx_0 = np.where(y_train == '0')\n",
        "y_train_0[indx_0] = 1\n",
        "indx_0 = np.where(y_test == '0')\n",
        "y_test_0[indx_0] = 1\n",
        "\n",
        "base_clf = DummyClassifier(strategy='most_frequent')\n",
        "base_clf.fit(X_train, y_train_0)\n",
        "print(f'Training accuracy: {base_clf.score(X_train, y_train_0):.2f}')\n",
        "print(f'Testing accuracy: {base_clf.score(X_test, y_test_0):.2f}')"
      ],
      "metadata": {
        "colab": {
          "base_uri": "https://localhost:8080/"
        },
        "id": "4J3-8rU6QjBG",
        "outputId": "73ff4474-e12e-4432-fae2-bfcedee35296"
      },
      "execution_count": 15,
      "outputs": [
        {
          "output_type": "stream",
          "name": "stdout",
          "text": [
            "Training accuracy: 0.90\n",
            "Testing accuracy: 0.90\n"
          ]
        }
      ]
    },
    {
      "cell_type": "markdown",
      "source": [
        "#### Perceptron Model"
      ],
      "metadata": {
        "id": "8BNCAAUwSHR2"
      }
    },
    {
      "cell_type": "code",
      "source": [
        "bin_clf = Perceptron(max_iter=100, random_state=1729)\n",
        "bin_clf.fit(X_train, y_train_0)\n",
        "print(f'Dimension of weights: {bin_clf.coef_.shape}')\n",
        "print(f'Bias: {bin_clf.intercept_}')\n",
        "print(f'Loss function: {bin_clf.loss_function_}, loss value: {bin_clf.loss}')"
      ],
      "metadata": {
        "colab": {
          "base_uri": "https://localhost:8080/"
        },
        "id": "DoLeW1aYReTl",
        "outputId": "816c2474-2dee-4b17-ccb4-b9318109b3fe"
      },
      "execution_count": 16,
      "outputs": [
        {
          "output_type": "stream",
          "name": "stdout",
          "text": [
            "Dimension of weights: (1, 784)\n",
            "Bias: [-108.]\n",
            "Loss function: <sklearn.linear_model._sgd_fast.Hinge object at 0x7f54a5989290>, loss value: perceptron\n"
          ]
        }
      ]
    },
    {
      "cell_type": "code",
      "source": [
        "y_hat_train_0 = bin_clf.predict(X_train)\n",
        "print(f'Training accuracy is {bin_clf.score(X_train, y_train_0)}')\n",
        "y_hat_test_0 = bin_clf.predict(X_test)\n",
        "print(f'Test accuracy is {bin_clf.score(X_test, y_test_0)}')"
      ],
      "metadata": {
        "colab": {
          "base_uri": "https://localhost:8080/"
        },
        "id": "uBCYZOD1SZWA",
        "outputId": "62775d61-59fc-40a2-95fb-8d32fb83fbca"
      },
      "execution_count": 18,
      "outputs": [
        {
          "output_type": "stream",
          "name": "stdout",
          "text": [
            "Training accuracy is 0.99095\n",
            "Test accuracy is 0.989\n"
          ]
        }
      ]
    },
    {
      "cell_type": "code",
      "source": [
        "num_images=9\n",
        "factor=np.int64(np.sqrt(num_images))\n",
        "fig,ax=plt.subplots(nrows=factor,ncols=factor,figsize=(8,6))\n",
        "idx_offset=0\n",
        "for i in range(factor):\n",
        "  index=idx_offset+i*(factor)\n",
        "  for j in range(factor):\n",
        "    ax[i,j].imshow(X_test[index+j].reshape(28,28),cmap='gray')\n",
        "    ax[i,j].set_title('Prediction:{0}'.format(str(y_hat_test_0[index+j])))\n",
        "    ax[i,j].set_axis_off()"
      ],
      "metadata": {
        "colab": {
          "base_uri": "https://localhost:8080/",
          "height": 373
        },
        "id": "cM_r1TOzTb1N",
        "outputId": "7d2c7547-2093-4c8f-fcd7-944eeda11877"
      },
      "execution_count": 28,
      "outputs": [
        {
          "output_type": "display_data",
          "data": {
            "text/plain": [
              "<Figure size 576x432 with 9 Axes>"
            ],
            "image/png": "[encoded data removed]"
          },
          "metadata": {
            "needs_background": "light"
          }
        }
      ]
    },
    {
      "cell_type": "code",
      "source": [
        "#misclassified\n",
        "indx_0=np.where(y_test_0==1)\n",
        "zeroLabels=y_hat_test_0[indx_0[0]]\n",
        "num_misclassified = np.count_nonzero(zeroLabels == -1)\n",
        "num_correctpred = len(zeroLabels) - num_misclassified\n",
        "accuracy = num_correctpred / len(zeroLabels)\n",
        "print(accuracy)"
      ],
      "metadata": {
        "colab": {
          "base_uri": "https://localhost:8080/"
        },
        "id": "OwDf1xAGUDqn",
        "outputId": "c5cd3ede-5f64-41ea-905f-5fc465b0807f"
      },
      "execution_count": 35,
      "outputs": [
        {
          "output_type": "stream",
          "name": "stdout",
          "text": [
            "0.9193877551020408\n"
          ]
        }
      ]
    },
    {
      "cell_type": "markdown",
      "source": [
        "#### confusion matrix"
      ],
      "metadata": {
        "id": "EFao_dSEVE_Z"
      }
    },
    {
      "cell_type": "code",
      "source": [
        "y_hat_train_0 = bin_clf.predict(X_train)\n",
        "cm_display = ConfusionMatrixDisplay.from_predictions(y_train_0, y_hat_train_0, values_format='.5g')"
      ],
      "metadata": {
        "colab": {
          "base_uri": "https://localhost:8080/",
          "height": 279
        },
        "id": "G9V8ShzCVEsX",
        "outputId": "63cfa3d3-3354-4a1d-e324-4ae8c9a5b4cd"
      },
      "execution_count": 33,
      "outputs": [
        {
          "output_type": "display_data",
          "data": {
            "text/plain": [
              "<Figure size 432x288 with 2 Axes>"
            ],
            "image/png": "[encoded data removed]"
          },
          "metadata": {
            "needs_background": "light"
          }
        }
      ]
    },
    {
      "cell_type": "code",
      "source": [
        "cf_matrix = cm_display.confusion_matrix\n",
        "tn = cf_matrix[0, 0]\n",
        "fn = cf_matrix[1, 0]\n",
        "fp = cf_matrix[0, 1]\n",
        "tp = cf_matrix[1, 1]\n",
        "\n",
        "precision = tp / (tp + fp)\n",
        "recall = tp / (tp + fn)\n",
        "accuracy = (tn + tp) / (tp + fp + tn + fn)\n",
        "print(f\"Precision: {precision}, Recall: {recall}, Acccuracy: {accuracy}\")"
      ],
      "metadata": {
        "colab": {
          "base_uri": "https://localhost:8080/"
        },
        "id": "55ZWN6tmVW4u",
        "outputId": "079f3d86-ce0c-4dd3-9703-16c54b41b5b6"
      },
      "execution_count": 34,
      "outputs": [
        {
          "output_type": "stream",
          "name": "stdout",
          "text": [
            "Precision: 0.9783072546230441, Recall: 0.9289211548201924, Acccuracy: 0.99095\n"
          ]
        }
      ]
    },
    {
      "cell_type": "markdown",
      "source": [
        "#### Cross validation"
      ],
      "metadata": {
        "id": "Ie0qvsTEVzH6"
      }
    },
    {
      "cell_type": "code",
      "source": [
        "bin_cfg = Perceptron(max_iter=100, random_state=1729)\n",
        "scores = cross_validate(bin_clf, X_train, y_train_0, cv=5, scoring=['recall', 'f1', 'precision'], return_estimator=True)\n",
        "# scores = cross_validate(bin_clf, X_test, y_test_0, cv=5, scoring=['recall', 'f1', 'precision'], return_estimator=True)\n",
        "pprint(scores)"
      ],
      "metadata": {
        "colab": {
          "base_uri": "https://localhost:8080/"
        },
        "id": "0v0AympCV1iJ",
        "outputId": "1d431277-c02a-4a04-b264-e4328dd52455"
      },
      "execution_count": 36,
      "outputs": [
        {
          "output_type": "stream",
          "name": "stdout",
          "text": [
            "{'estimator': [Perceptron(max_iter=100, random_state=1729),\n",
            "               Perceptron(max_iter=100, random_state=1729),\n",
            "               Perceptron(max_iter=100, random_state=1729),\n",
            "               Perceptron(max_iter=100, random_state=1729),\n",
            "               Perceptron(max_iter=100, random_state=1729)],\n",
            " 'fit_time': array([1.99929547, 2.83251476, 2.06154513, 1.61755681, 2.0736618 ]),\n",
            " 'score_time': array([0.05509758, 0.05776238, 0.04900432, 0.04428339, 0.05315709]),\n",
            " 'test_f1': array([0.95238095, 0.91666667, 0.94915254, 0.94117647, 0.95091763]),\n",
            " 'test_precision': array([0.95890411, 0.98828125, 0.95319149, 0.95090439, 0.96200345]),\n",
            " 'test_recall': array([0.94594595, 0.85472973, 0.94514768, 0.93164557, 0.94008439])}\n"
          ]
        }
      ]
    },
    {
      "cell_type": "code",
      "source": [
        "print(scores['test_f1'].mean(), scores['test_f1'].std())\n",
        "print(scores['test_precision'].mean(), scores['test_precision'].std())\n",
        "print(scores['test_recall'].mean(), scores['test_recall'].std())"
      ],
      "metadata": {
        "colab": {
          "base_uri": "https://localhost:8080/"
        },
        "id": "3wzSCEeMWDkR",
        "outputId": "9a0d973d-58fc-45ad-bc07-ad14cbee855a"
      },
      "execution_count": 37,
      "outputs": [
        {
          "output_type": "stream",
          "name": "stdout",
          "text": [
            "0.94205885179654 0.013273174197442695\n",
            "0.9626569391894069 0.01340770796981747\n",
            "0.9235106625612953 0.03476545483691418\n"
          ]
        }
      ]
    },
    {
      "cell_type": "code",
      "source": [
        "bin_clf = scores['estimator'][0]\n",
        "y_hat_test_0 = bin_clf.predict(X_test)\n",
        "cm_display = ConfusionMatrixDisplay.from_predictions(y_test_0, y_hat_test_0, values_format='.5g')"
      ],
      "metadata": {
        "colab": {
          "base_uri": "https://localhost:8080/",
          "height": 279
        },
        "id": "tLRUcjRwWRcw",
        "outputId": "42e240f7-a1e1-451d-f1e3-b24c6fe5b4ca"
      },
      "execution_count": 38,
      "outputs": [
        {
          "output_type": "display_data",
          "data": {
            "text/plain": [
              "<Figure size 432x288 with 2 Axes>"
            ],
            "image/png": "[encoded data removed]"
          },
          "metadata": {
            "needs_background": "light"
          }
        }
      ]
    },
    {
      "cell_type": "code",
      "source": [
        "cf_matrix = cm_display.confusion_matrix\n",
        "tn = cf_matrix[0, 0]\n",
        "fn = cf_matrix[1, 0]\n",
        "fp = cf_matrix[0, 1]\n",
        "tp = cf_matrix[1, 1]\n",
        "\n",
        "precision = tp / (tp + fp)\n",
        "recall = tp / (tp + fn)\n",
        "accuracy = (tn + tp) / (tp + fp + tn + fn)\n",
        "print(f\"Precision: {precision}, Recall: {recall}, Acccuracy: {accuracy}\")"
      ],
      "metadata": {
        "colab": {
          "base_uri": "https://localhost:8080/"
        },
        "id": "YmQrY1fXWZSn",
        "outputId": "ad06e62b-3603-464f-87c8-e03df6af3f29"
      },
      "execution_count": 40,
      "outputs": [
        {
          "output_type": "stream",
          "name": "stdout",
          "text": [
            "Precision: 0.9547325102880658, Recall: 0.9469387755102041, Acccuracy: 0.9904\n"
          ]
        }
      ]
    },
    {
      "cell_type": "markdown",
      "source": [
        "### Another way"
      ],
      "metadata": {
        "id": "HFE6plofW1VO"
      }
    },
    {
      "cell_type": "code",
      "source": [
        "y_hat_train_0 = cross_val_predict(bin_clf, X_train, y_train_0, cv=5)\n",
        "cm_display = ConfusionMatrixDisplay.from_predictions(y_train_0, y_hat_train_0, values_format='.5g')\n",
        "\n",
        "cf_matrix = cm_display.confusion_matrix\n",
        "tn = cf_matrix[0, 0]\n",
        "fn = cf_matrix[1, 0]\n",
        "fp = cf_matrix[0, 1]\n",
        "tp = cf_matrix[1, 1]\n",
        "\n",
        "precision = tp / (tp + fp)\n",
        "recall = tp / (tp + fn)\n",
        "accuracy = (tn + tp) / (tp + fp + tn + fn)\n",
        "print(f\"Precision: {precision}, Recall: {recall}, Acccuracy: {accuracy}\")"
      ],
      "metadata": {
        "colab": {
          "base_uri": "https://localhost:8080/",
          "height": 296
        },
        "id": "5r5Y7qLuW3mq",
        "outputId": "1bbe9223-d127-497f-9c09-296f67e98000"
      },
      "execution_count": 41,
      "outputs": [
        {
          "output_type": "stream",
          "name": "stdout",
          "text": [
            "Precision: 0.9620119591980303, Recall: 0.9235184872530812, Acccuracy: 0.98885\n"
          ]
        },
        {
          "output_type": "display_data",
          "data": {
            "text/plain": [
              "<Figure size 432x288 with 2 Axes>"
            ],
            "image/png": "[encoded data removed]"
          },
          "metadata": {
            "needs_background": "light"
          }
        }
      ]
    },
    {
      "cell_type": "code",
      "source": [
        "print(classification_report(y_train_0, y_hat_train_0))\n"
      ],
      "metadata": {
        "colab": {
          "base_uri": "https://localhost:8080/"
        },
        "id": "M64I_7gnXKZX",
        "outputId": "b3d2f68b-33a2-452e-fbc4-452a77354b4d"
      },
      "execution_count": 42,
      "outputs": [
        {
          "output_type": "stream",
          "name": "stdout",
          "text": [
            "              precision    recall  f1-score   support\n",
            "\n",
            "        -1.0       0.99      1.00      0.99     54077\n",
            "         1.0       0.96      0.92      0.94      5923\n",
            "\n",
            "    accuracy                           0.99     60000\n",
            "   macro avg       0.98      0.96      0.97     60000\n",
            "weighted avg       0.99      0.99      0.99     60000\n",
            "\n"
          ]
        }
      ]
    },
    {
      "cell_type": "markdown",
      "source": [
        "#### Precision recall curve"
      ],
      "metadata": {
        "id": "orIEjq3bXOri"
      }
    },
    {
      "cell_type": "code",
      "source": [
        "bin_clf = Perceptron(random_state=1729)\n",
        "bin_clf.fit(X_train, y_train_0)\n",
        "y_scores = bin_clf.decision_function(X_train)  #non-linear function h(x)\n",
        "sns.histplot(np.sort(y_scores))"
      ],
      "metadata": {
        "colab": {
          "base_uri": "https://localhost:8080/",
          "height": 282
        },
        "id": "2TtMbCkOXSZM",
        "outputId": "082ebeb9-ed5d-4941-a7a5-48f41e60631b"
      },
      "execution_count": 43,
      "outputs": [
        {
          "output_type": "execute_result",
          "data": {
            "text/plain": [
              "<matplotlib.axes._subplots.AxesSubplot at 0x7f54a296c190>"
            ]
          },
          "metadata": {},
          "execution_count": 43
        },
        {
          "output_type": "display_data",
          "data": {
            "text/plain": [
              "<Figure size 432x288 with 1 Axes>"
            ],
            "image/png": "[encoded data removed]"
          },
          "metadata": {
            "needs_background": "light"
          }
        }
      ]
    },
    {
      "cell_type": "code",
      "source": [
        "precisions, recalls, thresholds = precision_recall_curve(y_train_0, y_scores, pos_label=1)\n",
        "plt.plot(thresholds, precisions[:-1], 'b--', label='Precision')\n",
        "plt.plot(thresholds, recalls[:-1], 'g-', label='Recall')\n",
        "plt.xlabel('Threshold')\n",
        "plt.grid(True)\n",
        "plt.legend(loc='upper right')\n",
        "plt.show()\n"
      ],
      "metadata": {
        "colab": {
          "base_uri": "https://localhost:8080/",
          "height": 279
        },
        "id": "cYWXMNzyXaJQ",
        "outputId": "f1921c1f-f6f8-4320-9a93-166f23bd7719"
      },
      "execution_count": 44,
      "outputs": [
        {
          "output_type": "display_data",
          "data": {
            "text/plain": [
              "<Figure size 432x288 with 1 Axes>"
            ],
            "image/png": "[encoded data removed]"
          },
          "metadata": {
            "needs_background": "light"
          }
        }
      ]
    }
  ]
}