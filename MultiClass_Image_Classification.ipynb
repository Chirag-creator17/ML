{
  "nbformat": 4,
  "nbformat_minor": 0,
  "metadata": {
    "colab": {
      "name": "MultiClass Image Classification.ipynb",
      "provenance": [],
      "collapsed_sections": [],
      "authorship_tag": "ABX9TyOdRbeM+6KDhvcospNwjreS",
      "include_colab_link": true
    },
    "kernelspec": {
      "name": "python3",
      "display_name": "Python 3"
    },
    "language_info": {
      "name": "python"
    }
  },
  "cells": [
    {
      "cell_type": "markdown",
      "metadata": {
        "id": "view-in-github",
        "colab_type": "text"
      },
      "source": [
        "<a href=\"https://colab.research.google.com/github/Chirag-creator17/ML/blob/main/MultiClass_Image_Classification.ipynb\" target=\"_parent\"><img src=\"https://colab.research.google.com/assets/colab-badge.svg\" alt=\"Open In Colab\"/></a>"
      ]
    },
    {
      "cell_type": "code",
      "execution_count": 1,
      "metadata": {
        "id": "TMR4h3hMZBWH"
      },
      "outputs": [],
      "source": [
        "import numpy as np\n",
        "import os\n",
        "import io\n",
        "import warnings\n",
        "import matplotlib.pyplot as plt\n",
        "import seaborn as sns\n",
        "import warnings\n",
        "\n",
        "from sklearn.datasets import fetch_openml\n",
        "from sklearn.preprocessing import MinMaxScaler, StandardScaler\n",
        "from sklearn.pipeline import Pipeline\n",
        "from sklearn.dummy import DummyClassifier\n",
        "from sklearn.linear_model import Perceptron\n",
        "from sklearn.metrics import hinge_loss, ConfusionMatrixDisplay, confusion_matrix, make_scorer\n",
        "from sklearn.metrics import precision_score, recall_score, precision_recall_curve, classification_report\n",
        "from sklearn.model_selection import cross_validate, cross_val_predict, GridSearchCV\n",
        "from pprint import pprint\n",
        "\n",
        "# warnings.filterwarnings(\"ignore\")"
      ]
    },
    {
      "cell_type": "code",
      "source": [
        "X, y = fetch_openml('mnist_784', version=1, return_X_y=True)"
      ],
      "metadata": {
        "id": "F7lEVGaRZfEM"
      },
      "execution_count": 2,
      "outputs": []
    },
    {
      "cell_type": "code",
      "source": [
        "X=X.to_numpy()\n",
        "y=y.to_numpy()"
      ],
      "metadata": {
        "id": "riWHagVkZthH"
      },
      "execution_count": 3,
      "outputs": []
    },
    {
      "cell_type": "code",
      "source": [
        "target_names = np.unique(y)\n",
        "print(f'Number of samples: {X.shape[0]}, type: {X.dtype}')\n",
        "print(f'Number of features: {X.shape[1]}')\n",
        "print(f'Minimum: {np.min(X)}, Maximum: {np.max(X)}')\n",
        "print(f'Number of classes: {len(target_names)}, type: {y.dtype}')\n",
        "print(f'Labels: {target_names}')"
      ],
      "metadata": {
        "colab": {
          "base_uri": "https://localhost:8080/"
        },
        "id": "f-z_3LqIZ0WX",
        "outputId": "7b873faf-08b6-4e0d-8feb-608517629bc2"
      },
      "execution_count": 4,
      "outputs": [
        {
          "output_type": "stream",
          "name": "stdout",
          "text": [
            "Number of samples: 70000, type: float64\n",
            "Number of features: 784\n",
            "Minimum: 0.0, Maximum: 255.0\n",
            "Number of classes: 10, type: object\n",
            "Labels: ['0' '1' '2' '3' '4' '5' '6' '7' '8' '9']\n"
          ]
        }
      ]
    },
    {
      "cell_type": "code",
      "source": [
        "X_train, X_test, y_train, y_test = X[:60000], X[60000:], y[:60000], y[60000:]"
      ],
      "metadata": {
        "id": "GkS5Qfc-Z9uA"
      },
      "execution_count": 6,
      "outputs": []
    },
    {
      "cell_type": "code",
      "source": [
        "#This step is internal to the algorithm, and shown here only for clarity\n",
        "from sklearn.preprocessing import LabelBinarizer\n",
        "y_train_ovr = LabelBinarizer().fit_transform(y_train)\n",
        "# see the equivalent conversions for the first 10 y_train values\n",
        "for i in range(10):\n",
        "    print(y_train[i], '==>', y_train_ovr[i])"
      ],
      "metadata": {
        "colab": {
          "base_uri": "https://localhost:8080/"
        },
        "id": "I10Q7pppZ3B5",
        "outputId": "a698ae6f-1649-4cea-d60b-07a81aa7e9aa"
      },
      "execution_count": 7,
      "outputs": [
        {
          "output_type": "stream",
          "name": "stdout",
          "text": [
            "5 ==> [0 0 0 0 0 1 0 0 0 0]\n",
            "0 ==> [1 0 0 0 0 0 0 0 0 0]\n",
            "4 ==> [0 0 0 0 1 0 0 0 0 0]\n",
            "1 ==> [0 1 0 0 0 0 0 0 0 0]\n",
            "9 ==> [0 0 0 0 0 0 0 0 0 1]\n",
            "2 ==> [0 0 1 0 0 0 0 0 0 0]\n",
            "1 ==> [0 1 0 0 0 0 0 0 0 0]\n",
            "3 ==> [0 0 0 1 0 0 0 0 0 0]\n",
            "1 ==> [0 1 0 0 0 0 0 0 0 0]\n",
            "4 ==> [0 0 0 0 1 0 0 0 0 0]\n"
          ]
        }
      ]
    },
    {
      "cell_type": "code",
      "source": [
        "clf = Perceptron(random_state=1729)\n",
        "clf.fit(X_train, y_train)"
      ],
      "metadata": {
        "colab": {
          "base_uri": "https://localhost:8080/"
        },
        "id": "mPld5b1_aTgT",
        "outputId": "19651e91-a5a7-4a87-eb6c-e026fd4f4ed1"
      },
      "execution_count": 9,
      "outputs": [
        {
          "output_type": "execute_result",
          "data": {
            "text/plain": [
              "Perceptron(random_state=1729)"
            ]
          },
          "metadata": {},
          "execution_count": 9
        }
      ]
    },
    {
      "cell_type": "code",
      "source": [
        "print(f\"Shape of weight matrix is {clf.coef_.shape} and shape of bias vector is {clf.intercept_.shape}\")"
      ],
      "metadata": {
        "colab": {
          "base_uri": "https://localhost:8080/"
        },
        "id": "7VHq7mBLapKb",
        "outputId": "5bf8a0b1-b5ba-4deb-a5ad-fcb6567c53f2"
      },
      "execution_count": 10,
      "outputs": [
        {
          "output_type": "stream",
          "name": "stdout",
          "text": [
            "Shape of weight matrix is (10, 784) and shape of bias vector is (10,)\n"
          ]
        }
      ]
    },
    {
      "cell_type": "code",
      "source": [
        "scores = clf.decision_function(X_train[0].reshape(1, -1))\n",
        "print(scores)\n",
        "print(f\"Predicted class is {np.argmax(scores)}\")"
      ],
      "metadata": {
        "colab": {
          "base_uri": "https://localhost:8080/"
        },
        "id": "cp7EzZL1aubD",
        "outputId": "8fb3772f-5ad6-4ec0-ab50-b4d35597e502"
      },
      "execution_count": 11,
      "outputs": [
        {
          "output_type": "stream",
          "name": "stdout",
          "text": [
            "[[-12002266. -17622609. -13573128.    857820. -20312887.   3197840.\n",
            "  -18155723.  -9888472. -13008226. -12868963.]]\n",
            "Predicted class is 5\n"
          ]
        }
      ]
    },
    {
      "cell_type": "code",
      "source": [
        "clf.predict(X_train[0].reshape(1, -1))"
      ],
      "metadata": {
        "colab": {
          "base_uri": "https://localhost:8080/"
        },
        "id": "vwjQ99_la2zH",
        "outputId": "017200dd-fac6-4536-9ce3-f69f05ed0f71"
      },
      "execution_count": 12,
      "outputs": [
        {
          "output_type": "execute_result",
          "data": {
            "text/plain": [
              "array(['5'], dtype='<U1')"
            ]
          },
          "metadata": {},
          "execution_count": 12
        }
      ]
    },
    {
      "cell_type": "code",
      "source": [
        "y_hat_train = clf.predict(X_train)  #Get predictions for all examples in X_train\n",
        "print(classification_report(y_train, y_hat_train))"
      ],
      "metadata": {
        "colab": {
          "base_uri": "https://localhost:8080/"
        },
        "id": "y3N9crpda4-1",
        "outputId": "a8806d6b-8cbc-48d4-d5d4-0d0e061ba754"
      },
      "execution_count": 13,
      "outputs": [
        {
          "output_type": "stream",
          "name": "stdout",
          "text": [
            "              precision    recall  f1-score   support\n",
            "\n",
            "           0       0.96      0.97      0.96      5923\n",
            "           1       0.92      0.98      0.95      6742\n",
            "           2       0.92      0.88      0.90      5958\n",
            "           3       0.85      0.91      0.88      6131\n",
            "           4       0.85      0.93      0.89      5842\n",
            "           5       0.89      0.81      0.84      5421\n",
            "           6       0.96      0.94      0.95      5918\n",
            "           7       0.96      0.88      0.92      6265\n",
            "           8       0.81      0.82      0.81      5851\n",
            "           9       0.87      0.85      0.86      5949\n",
            "\n",
            "    accuracy                           0.90     60000\n",
            "   macro avg       0.90      0.90      0.90     60000\n",
            "weighted avg       0.90      0.90      0.90     60000\n",
            "\n"
          ]
        }
      ]
    },
    {
      "cell_type": "code",
      "source": [
        "cm_display = ConfusionMatrixDisplay.from_predictions(y_train, y_hat_train, values_format='.5g')"
      ],
      "metadata": {
        "colab": {
          "base_uri": "https://localhost:8080/",
          "height": 279
        },
        "id": "m9L4_OS4bBWx",
        "outputId": "a9f422c3-eeed-4229-a852-9107cffb39df"
      },
      "execution_count": 14,
      "outputs": [
        {
          "output_type": "display_data",
          "data": {
            "text/plain": [
              "<Figure size 432x288 with 2 Axes>"
            ],
            "image/png": "[encoded data removed]"
          },
          "metadata": {
            "needs_background": "light"
          }
        }
      ]
    },
    {
      "cell_type": "markdown",
      "source": [
        "#### Making pipeline"
      ],
      "metadata": {
        "id": "z4mGDXDZbHf9"
      }
    },
    {
      "cell_type": "code",
      "source": [
        "pipe = Pipeline([('std_scaler', MinMaxScaler()),\n",
        "                ('clf', Perceptron(random_state=1729))])\n",
        "pipe.fit(X_train, y_train)"
      ],
      "metadata": {
        "colab": {
          "base_uri": "https://localhost:8080/"
        },
        "id": "BHoyiSHAbKNi",
        "outputId": "fefecb33-21c1-48c2-b740-ae14cbd3aa04"
      },
      "execution_count": 15,
      "outputs": [
        {
          "output_type": "execute_result",
          "data": {
            "text/plain": [
              "Pipeline(steps=[('std_scaler', MinMaxScaler()),\n",
              "                ('clf', Perceptron(random_state=1729))])"
            ]
          },
          "metadata": {},
          "execution_count": 15
        }
      ]
    },
    {
      "cell_type": "code",
      "source": [
        "y_hat_train = pipe.predict(X_train)\n",
        "cm_display = ConfusionMatrixDisplay.from_predictions(y_train, y_hat_train, values_format='.5g')"
      ],
      "metadata": {
        "colab": {
          "base_uri": "https://localhost:8080/",
          "height": 279
        },
        "id": "4PDl4-E3bTOo",
        "outputId": "cae0a142-e712-47c0-e736-d73e6e37a37a"
      },
      "execution_count": 16,
      "outputs": [
        {
          "output_type": "display_data",
          "data": {
            "text/plain": [
              "<Figure size 432x288 with 2 Axes>"
            ],
            "image/png": "[encoded data removed]"
          },
          "metadata": {
            "needs_background": "light"
          }
        }
      ]
    },
    {
      "cell_type": "markdown",
      "source": [
        "#### Grid Search"
      ],
      "metadata": {
        "id": "5GM3kq1Jbq7d"
      }
    },
    {
      "cell_type": "code",
      "source": [
        "y_train = y_train.astype(float)\n",
        "#initialize new variable names with all -1\n",
        "y_train_0 = -1 * np.ones(y_train.shape[0])\n",
        "y_test_0 = -1 * np.ones(y_test.shape[0])\n",
        "\n",
        "#find indices of digit 0 image\n",
        "indx_0 = np.where(y_train == 0)\n",
        "y_train_0[indx_0] = 1\n",
        "indx_0 = np.where(y_test == 0)\n",
        "y_test_0[indx_0] = 1"
      ],
      "metadata": {
        "id": "gVR14ZnnbeLy"
      },
      "execution_count": 18,
      "outputs": []
    },
    {
      "cell_type": "code",
      "source": [
        "pipe = Pipeline([('std_scaler', MinMaxScaler()),\n",
        "                ('clf', Perceptron(random_state=1729))])\n",
        "\n",
        "scoring = make_scorer(hinge_loss, greater_is_better=False)\n",
        "lr_grid = [1/2 ** n for n in range(1,6)]\n",
        "bin_clf_gscv = GridSearchCV(pipe, param_grid={\"clf__eta0\": lr_grid}, scoring=scoring, cv=5)\n",
        "bin_clf_gscv.fit(X_train, y_train_0)"
      ],
      "metadata": {
        "colab": {
          "base_uri": "https://localhost:8080/"
        },
        "id": "Wqmk8W-ubwgp",
        "outputId": "86815e7e-08a9-43b4-8f60-a3a070b333fa"
      },
      "execution_count": 19,
      "outputs": [
        {
          "output_type": "execute_result",
          "data": {
            "text/plain": [
              "GridSearchCV(cv=5,\n",
              "             estimator=Pipeline(steps=[('std_scaler', MinMaxScaler()),\n",
              "                                       ('clf', Perceptron(random_state=1729))]),\n",
              "             param_grid={'clf__eta0': [0.5, 0.25, 0.125, 0.0625, 0.03125]},\n",
              "             scoring=make_scorer(hinge_loss, greater_is_better=False))"
            ]
          },
          "metadata": {},
          "execution_count": 19
        }
      ]
    },
    {
      "cell_type": "code",
      "source": [
        "pprint(bin_clf_gscv.cv_results_)"
      ],
      "metadata": {
        "colab": {
          "base_uri": "https://localhost:8080/"
        },
        "id": "fL-hsV07b5oJ",
        "outputId": "16b0f035-091d-4960-9064-d15de3add449"
      },
      "execution_count": 20,
      "outputs": [
        {
          "output_type": "stream",
          "name": "stdout",
          "text": [
            "{'mean_fit_time': array([1.78677459, 1.7753027 , 1.52834163, 1.47263231, 1.58518314]),\n",
            " 'mean_score_time': array([0.07566094, 0.07384114, 0.07877488, 0.08170605, 0.10450144]),\n",
            " 'mean_test_score': array([-0.01983333, -0.01963333, -0.0206    , -0.0229    , -0.02413333]),\n",
            " 'param_clf__eta0': masked_array(data=[0.5, 0.25, 0.125, 0.0625, 0.03125],\n",
            "             mask=[False, False, False, False, False],\n",
            "       fill_value='?',\n",
            "            dtype=object),\n",
            " 'params': [{'clf__eta0': 0.5},\n",
            "            {'clf__eta0': 0.25},\n",
            "            {'clf__eta0': 0.125},\n",
            "            {'clf__eta0': 0.0625},\n",
            "            {'clf__eta0': 0.03125}],\n",
            " 'rank_test_score': array([2, 1, 3, 4, 5], dtype=int32),\n",
            " 'split0_test_score': array([-0.01916667, -0.01916667, -0.01916667, -0.02      , -0.02316667]),\n",
            " 'split1_test_score': array([-0.01983333, -0.01983333, -0.01983333, -0.02783333, -0.02783333]),\n",
            " 'split2_test_score': array([-0.01916667, -0.01916667, -0.02066667, -0.02066667, -0.0185    ]),\n",
            " 'split3_test_score': array([-0.01983333, -0.01983333, -0.02316667, -0.02583333, -0.02583333]),\n",
            " 'split4_test_score': array([-0.02116667, -0.02016667, -0.02016667, -0.02016667, -0.02533333]),\n",
            " 'std_fit_time': array([0.32130571, 0.35522435, 0.17836732, 0.30281719, 0.34965297]),\n",
            " 'std_score_time': array([0.00241385, 0.00160996, 0.00329162, 0.01055372, 0.02022218]),\n",
            " 'std_test_score': array([0.0007303 , 0.0004    , 0.00137275, 0.00328058, 0.00318399])}\n"
          ]
        }
      ]
    },
    {
      "cell_type": "code",
      "source": [
        "bin_clf_gscv.best_params_"
      ],
      "metadata": {
        "colab": {
          "base_uri": "https://localhost:8080/"
        },
        "id": "db8I_nZIb8Bt",
        "outputId": "46de7bea-6e4e-460e-9966-424641281cc6"
      },
      "execution_count": 21,
      "outputs": [
        {
          "output_type": "execute_result",
          "data": {
            "text/plain": [
              "{'clf__eta0': 0.25}"
            ]
          },
          "metadata": {},
          "execution_count": 21
        }
      ]
    }
  ]
}